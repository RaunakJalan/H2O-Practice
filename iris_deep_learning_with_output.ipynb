{
 "cells": [
  {
   "cell_type": "code",
   "execution_count": 1,
   "metadata": {},
   "outputs": [],
   "source": [
    "import h2o"
   ]
  },
  {
   "cell_type": "code",
   "execution_count": 2,
   "metadata": {},
   "outputs": [
    {
     "name": "stdout",
     "output_type": "stream",
     "text": [
      "Checking whether there is an H2O instance running at http://localhost:54321 ..... not found.\n",
      "Attempting to start a local H2O server...\n",
      "; Java HotSpot(TM) 64-Bit Server VM 18.9 (build 11.0.1+13-LTS, mixed mode)\n",
      "  Starting server from C:\\Users\\Raunak\\anaconda3\\lib\\site-packages\\h2o\\backend\\bin\\h2o.jar\n",
      "  Ice root: C:\\Users\\Raunak\\AppData\\Local\\Temp\\tmpfz899qdn\n",
      "  JVM stdout: C:\\Users\\Raunak\\AppData\\Local\\Temp\\tmpfz899qdn\\h2o_Raunak_started_from_python.out\n",
      "  JVM stderr: C:\\Users\\Raunak\\AppData\\Local\\Temp\\tmpfz899qdn\\h2o_Raunak_started_from_python.err\n",
      "  Server is running at http://127.0.0.1:54321\n",
      "Connecting to H2O server at http://127.0.0.1:54321 ... successful.\n"
     ]
    },
    {
     "data": {
      "text/html": [
       "<div style=\"overflow:auto\"><table style=\"width:50%\"><tr><td>H2O_cluster_uptime:</td>\n",
       "<td>03 secs</td></tr>\n",
       "<tr><td>H2O_cluster_timezone:</td>\n",
       "<td>Asia/Kolkata</td></tr>\n",
       "<tr><td>H2O_data_parsing_timezone:</td>\n",
       "<td>UTC</td></tr>\n",
       "<tr><td>H2O_cluster_version:</td>\n",
       "<td>3.30.0.4</td></tr>\n",
       "<tr><td>H2O_cluster_version_age:</td>\n",
       "<td>15 days </td></tr>\n",
       "<tr><td>H2O_cluster_name:</td>\n",
       "<td>H2O_from_python_Raunak_oo49sa</td></tr>\n",
       "<tr><td>H2O_cluster_total_nodes:</td>\n",
       "<td>1</td></tr>\n",
       "<tr><td>H2O_cluster_free_memory:</td>\n",
       "<td>2.975 Gb</td></tr>\n",
       "<tr><td>H2O_cluster_total_cores:</td>\n",
       "<td>4</td></tr>\n",
       "<tr><td>H2O_cluster_allowed_cores:</td>\n",
       "<td>4</td></tr>\n",
       "<tr><td>H2O_cluster_status:</td>\n",
       "<td>accepting new members, healthy</td></tr>\n",
       "<tr><td>H2O_connection_url:</td>\n",
       "<td>http://127.0.0.1:54321</td></tr>\n",
       "<tr><td>H2O_connection_proxy:</td>\n",
       "<td>{\"http\": null, \"https\": null}</td></tr>\n",
       "<tr><td>H2O_internal_security:</td>\n",
       "<td>False</td></tr>\n",
       "<tr><td>H2O_API_Extensions:</td>\n",
       "<td>Amazon S3, Algos, AutoML, Core V3, TargetEncoder, Core V4</td></tr>\n",
       "<tr><td>Python_version:</td>\n",
       "<td>3.7.6 final</td></tr></table></div>"
      ],
      "text/plain": [
       "--------------------------  ---------------------------------------------------------\n",
       "H2O_cluster_uptime:         03 secs\n",
       "H2O_cluster_timezone:       Asia/Kolkata\n",
       "H2O_data_parsing_timezone:  UTC\n",
       "H2O_cluster_version:        3.30.0.4\n",
       "H2O_cluster_version_age:    15 days\n",
       "H2O_cluster_name:           H2O_from_python_Raunak_oo49sa\n",
       "H2O_cluster_total_nodes:    1\n",
       "H2O_cluster_free_memory:    2.975 Gb\n",
       "H2O_cluster_total_cores:    4\n",
       "H2O_cluster_allowed_cores:  4\n",
       "H2O_cluster_status:         accepting new members, healthy\n",
       "H2O_connection_url:         http://127.0.0.1:54321\n",
       "H2O_connection_proxy:       {\"http\": null, \"https\": null}\n",
       "H2O_internal_security:      False\n",
       "H2O_API_Extensions:         Amazon S3, Algos, AutoML, Core V3, TargetEncoder, Core V4\n",
       "Python_version:             3.7.6 final\n",
       "--------------------------  ---------------------------------------------------------"
      ]
     },
     "metadata": {},
     "output_type": "display_data"
    }
   ],
   "source": [
    "h2o.init()"
   ]
  },
  {
   "cell_type": "code",
   "execution_count": 3,
   "metadata": {},
   "outputs": [
    {
     "name": "stdout",
     "output_type": "stream",
     "text": [
      "Parse progress: |█████████████████████████████████████████████████████████| 100%\n"
     ]
    }
   ],
   "source": [
    "url = \"http://h2o-public-test-data.s3.amazonaws.com/smalldata/iris/iris_wheader.csv\"\n",
    "iris = h2o.import_file(url)"
   ]
  },
  {
   "cell_type": "code",
   "execution_count": 4,
   "metadata": {},
   "outputs": [],
   "source": [
    "train, test = iris.split_frame([0.8])"
   ]
  },
  {
   "cell_type": "code",
   "execution_count": 7,
   "metadata": {},
   "outputs": [
    {
     "data": {
      "text/html": [
       "<table>\n",
       "<thead>\n",
       "<tr><th style=\"text-align: right;\">  sepal_len</th><th style=\"text-align: right;\">  sepal_wid</th><th style=\"text-align: right;\">  petal_len</th><th style=\"text-align: right;\">  petal_wid</th><th>class      </th></tr>\n",
       "</thead>\n",
       "<tbody>\n",
       "<tr><td style=\"text-align: right;\">        5.1</td><td style=\"text-align: right;\">        3.5</td><td style=\"text-align: right;\">        1.4</td><td style=\"text-align: right;\">        0.2</td><td>Iris-setosa</td></tr>\n",
       "<tr><td style=\"text-align: right;\">        4.9</td><td style=\"text-align: right;\">        3  </td><td style=\"text-align: right;\">        1.4</td><td style=\"text-align: right;\">        0.2</td><td>Iris-setosa</td></tr>\n",
       "<tr><td style=\"text-align: right;\">        4.7</td><td style=\"text-align: right;\">        3.2</td><td style=\"text-align: right;\">        1.3</td><td style=\"text-align: right;\">        0.2</td><td>Iris-setosa</td></tr>\n",
       "<tr><td style=\"text-align: right;\">        4.6</td><td style=\"text-align: right;\">        3.1</td><td style=\"text-align: right;\">        1.5</td><td style=\"text-align: right;\">        0.2</td><td>Iris-setosa</td></tr>\n",
       "<tr><td style=\"text-align: right;\">        5  </td><td style=\"text-align: right;\">        3.6</td><td style=\"text-align: right;\">        1.4</td><td style=\"text-align: right;\">        0.2</td><td>Iris-setosa</td></tr>\n",
       "<tr><td style=\"text-align: right;\">        5.4</td><td style=\"text-align: right;\">        3.9</td><td style=\"text-align: right;\">        1.7</td><td style=\"text-align: right;\">        0.4</td><td>Iris-setosa</td></tr>\n",
       "<tr><td style=\"text-align: right;\">        4.6</td><td style=\"text-align: right;\">        3.4</td><td style=\"text-align: right;\">        1.4</td><td style=\"text-align: right;\">        0.3</td><td>Iris-setosa</td></tr>\n",
       "<tr><td style=\"text-align: right;\">        5  </td><td style=\"text-align: right;\">        3.4</td><td style=\"text-align: right;\">        1.5</td><td style=\"text-align: right;\">        0.2</td><td>Iris-setosa</td></tr>\n",
       "<tr><td style=\"text-align: right;\">        5.4</td><td style=\"text-align: right;\">        3.7</td><td style=\"text-align: right;\">        1.5</td><td style=\"text-align: right;\">        0.2</td><td>Iris-setosa</td></tr>\n",
       "<tr><td style=\"text-align: right;\">        4.8</td><td style=\"text-align: right;\">        3.4</td><td style=\"text-align: right;\">        1.6</td><td style=\"text-align: right;\">        0.2</td><td>Iris-setosa</td></tr>\n",
       "</tbody>\n",
       "</table>"
      ]
     },
     "metadata": {},
     "output_type": "display_data"
    },
    {
     "data": {
      "text/plain": []
     },
     "execution_count": 7,
     "metadata": {},
     "output_type": "execute_result"
    }
   ],
   "source": [
    "train.head()"
   ]
  },
  {
   "cell_type": "code",
   "execution_count": 13,
   "metadata": {},
   "outputs": [
    {
     "data": {
      "text/html": [
       "<table>\n",
       "<thead>\n",
       "<tr><th>       </th><th>sepal_len         </th><th>sepal_wid         </th><th>petal_len         </th><th>petal_wid         </th><th>class      </th></tr>\n",
       "</thead>\n",
       "<tbody>\n",
       "<tr><td>type   </td><td>real              </td><td>real              </td><td>real              </td><td>real              </td><td>enum       </td></tr>\n",
       "<tr><td>mins   </td><td>4.4               </td><td>2.0               </td><td>1.0               </td><td>0.1               </td><td>           </td></tr>\n",
       "<tr><td>mean   </td><td>5.874590163934425 </td><td>3.0663934426229518</td><td>3.8245901639344257</td><td>1.2336065573770494</td><td>           </td></tr>\n",
       "<tr><td>maxs   </td><td>7.9               </td><td>4.4               </td><td>6.9               </td><td>2.5               </td><td>           </td></tr>\n",
       "<tr><td>sigma  </td><td>0.8197521773677384</td><td>0.4449181660733805</td><td>1.7815079263936153</td><td>0.77583446472225  </td><td>           </td></tr>\n",
       "<tr><td>zeros  </td><td>0                 </td><td>0                 </td><td>0                 </td><td>0                 </td><td>           </td></tr>\n",
       "<tr><td>missing</td><td>0                 </td><td>0                 </td><td>0                 </td><td>0                 </td><td>0          </td></tr>\n",
       "<tr><td>0      </td><td>5.1               </td><td>3.5               </td><td>1.4               </td><td>0.2               </td><td>Iris-setosa</td></tr>\n",
       "<tr><td>1      </td><td>4.9               </td><td>3.0               </td><td>1.4               </td><td>0.2               </td><td>Iris-setosa</td></tr>\n",
       "<tr><td>2      </td><td>4.7               </td><td>3.2               </td><td>1.3               </td><td>0.2               </td><td>Iris-setosa</td></tr>\n",
       "<tr><td>3      </td><td>4.6               </td><td>3.1               </td><td>1.5               </td><td>0.2               </td><td>Iris-setosa</td></tr>\n",
       "<tr><td>4      </td><td>5.0               </td><td>3.6               </td><td>1.4               </td><td>0.2               </td><td>Iris-setosa</td></tr>\n",
       "<tr><td>5      </td><td>5.4               </td><td>3.9               </td><td>1.7               </td><td>0.4               </td><td>Iris-setosa</td></tr>\n",
       "<tr><td>6      </td><td>4.6               </td><td>3.4               </td><td>1.4               </td><td>0.3               </td><td>Iris-setosa</td></tr>\n",
       "<tr><td>7      </td><td>5.0               </td><td>3.4               </td><td>1.5               </td><td>0.2               </td><td>Iris-setosa</td></tr>\n",
       "<tr><td>8      </td><td>5.4               </td><td>3.7               </td><td>1.5               </td><td>0.2               </td><td>Iris-setosa</td></tr>\n",
       "<tr><td>9      </td><td>4.8               </td><td>3.4               </td><td>1.6               </td><td>0.2               </td><td>Iris-setosa</td></tr>\n",
       "</tbody>\n",
       "</table>"
      ]
     },
     "metadata": {},
     "output_type": "display_data"
    }
   ],
   "source": [
    "train.summary()"
   ]
  },
  {
   "cell_type": "code",
   "execution_count": 14,
   "metadata": {},
   "outputs": [],
   "source": [
    "from h2o.estimators.deeplearning import H2ODeepLearningEstimator"
   ]
  },
  {
   "cell_type": "code",
   "execution_count": 15,
   "metadata": {},
   "outputs": [
    {
     "name": "stdout",
     "output_type": "stream",
     "text": [
      "deeplearning Model Build progress: |██████████████████████████████████████| 100%\n"
     ]
    }
   ],
   "source": [
    "mDL = H2ODeepLearningEstimator()\n",
    "mDL.train([\"sepal_len\",\"sepal_wid\",\"petal_len\",\"petal_wid\"], \"class\",train)"
   ]
  },
  {
   "cell_type": "code",
   "execution_count": 16,
   "metadata": {},
   "outputs": [
    {
     "name": "stdout",
     "output_type": "stream",
     "text": [
      "Model Details\n",
      "=============\n",
      "H2ODeepLearningEstimator :  Deep Learning\n",
      "Model Key:  DeepLearning_model_python_1592335570817_1\n",
      "\n",
      "\n",
      "Status of Neuron Layers: predicting class, 3-class classification, multinomial distribution, CrossEntropy loss, 41,803 weights/biases, 498.2 KB, 1,220 training samples, mini-batch size 1\n"
     ]
    },
    {
     "data": {
      "text/html": [
       "<div>\n",
       "<style scoped>\n",
       "    .dataframe tbody tr th:only-of-type {\n",
       "        vertical-align: middle;\n",
       "    }\n",
       "\n",
       "    .dataframe tbody tr th {\n",
       "        vertical-align: top;\n",
       "    }\n",
       "\n",
       "    .dataframe thead th {\n",
       "        text-align: right;\n",
       "    }\n",
       "</style>\n",
       "<table border=\"1\" class=\"dataframe\">\n",
       "  <thead>\n",
       "    <tr style=\"text-align: right;\">\n",
       "      <th></th>\n",
       "      <th></th>\n",
       "      <th>layer</th>\n",
       "      <th>units</th>\n",
       "      <th>type</th>\n",
       "      <th>dropout</th>\n",
       "      <th>l1</th>\n",
       "      <th>l2</th>\n",
       "      <th>mean_rate</th>\n",
       "      <th>rate_rms</th>\n",
       "      <th>momentum</th>\n",
       "      <th>mean_weight</th>\n",
       "      <th>weight_rms</th>\n",
       "      <th>mean_bias</th>\n",
       "      <th>bias_rms</th>\n",
       "    </tr>\n",
       "  </thead>\n",
       "  <tbody>\n",
       "    <tr>\n",
       "      <th>0</th>\n",
       "      <td></td>\n",
       "      <td>1</td>\n",
       "      <td>4</td>\n",
       "      <td>Input</td>\n",
       "      <td>0</td>\n",
       "      <td></td>\n",
       "      <td></td>\n",
       "      <td></td>\n",
       "      <td></td>\n",
       "      <td></td>\n",
       "      <td></td>\n",
       "      <td></td>\n",
       "      <td></td>\n",
       "      <td></td>\n",
       "    </tr>\n",
       "    <tr>\n",
       "      <th>1</th>\n",
       "      <td></td>\n",
       "      <td>2</td>\n",
       "      <td>200</td>\n",
       "      <td>Rectifier</td>\n",
       "      <td>0</td>\n",
       "      <td>0</td>\n",
       "      <td>0</td>\n",
       "      <td>0.00562809</td>\n",
       "      <td>0.00462893</td>\n",
       "      <td>0</td>\n",
       "      <td>-0.00689123</td>\n",
       "      <td>0.108067</td>\n",
       "      <td>0.487732</td>\n",
       "      <td>0.00899701</td>\n",
       "    </tr>\n",
       "    <tr>\n",
       "      <th>2</th>\n",
       "      <td></td>\n",
       "      <td>3</td>\n",
       "      <td>200</td>\n",
       "      <td>Rectifier</td>\n",
       "      <td>0</td>\n",
       "      <td>0</td>\n",
       "      <td>0</td>\n",
       "      <td>0.016937</td>\n",
       "      <td>0.056029</td>\n",
       "      <td>0</td>\n",
       "      <td>-0.000671413</td>\n",
       "      <td>0.0701502</td>\n",
       "      <td>0.998851</td>\n",
       "      <td>0.00467139</td>\n",
       "    </tr>\n",
       "    <tr>\n",
       "      <th>3</th>\n",
       "      <td></td>\n",
       "      <td>4</td>\n",
       "      <td>3</td>\n",
       "      <td>Softmax</td>\n",
       "      <td></td>\n",
       "      <td>0</td>\n",
       "      <td>0</td>\n",
       "      <td>0.012901</td>\n",
       "      <td>0.0769243</td>\n",
       "      <td>0</td>\n",
       "      <td>-0.0154834</td>\n",
       "      <td>0.394926</td>\n",
       "      <td>-0.000423203</td>\n",
       "      <td>0.00175176</td>\n",
       "    </tr>\n",
       "  </tbody>\n",
       "</table>\n",
       "</div>"
      ],
      "text/plain": [
       "     layer  units       type dropout l1 l2   mean_rate    rate_rms momentum  \\\n",
       "0        1      4      Input       0                                          \n",
       "1        2    200  Rectifier       0  0  0  0.00562809  0.00462893        0   \n",
       "2        3    200  Rectifier       0  0  0    0.016937    0.056029        0   \n",
       "3        4      3    Softmax          0  0    0.012901   0.0769243        0   \n",
       "\n",
       "   mean_weight weight_rms    mean_bias    bias_rms  \n",
       "0                                                   \n",
       "1  -0.00689123   0.108067     0.487732  0.00899701  \n",
       "2 -0.000671413  0.0701502     0.998851  0.00467139  \n",
       "3   -0.0154834   0.394926 -0.000423203  0.00175176  "
      ]
     },
     "metadata": {},
     "output_type": "display_data"
    },
    {
     "name": "stdout",
     "output_type": "stream",
     "text": [
      "\n",
      "\n",
      "ModelMetricsMultinomial: deeplearning\n",
      "** Reported on train data. **\n",
      "\n",
      "MSE: 0.026798122624097143\n",
      "RMSE: 0.16370132138775528\n",
      "LogLoss: 0.08438752577471843\n",
      "Mean Per-Class Error: 0.036036036036036036\n",
      "\n",
      "Confusion Matrix: Row labels: Actual class; Column labels: Predicted class\n"
     ]
    },
    {
     "data": {
      "text/html": [
       "<div>\n",
       "<style scoped>\n",
       "    .dataframe tbody tr th:only-of-type {\n",
       "        vertical-align: middle;\n",
       "    }\n",
       "\n",
       "    .dataframe tbody tr th {\n",
       "        vertical-align: top;\n",
       "    }\n",
       "\n",
       "    .dataframe thead th {\n",
       "        text-align: right;\n",
       "    }\n",
       "</style>\n",
       "<table border=\"1\" class=\"dataframe\">\n",
       "  <thead>\n",
       "    <tr style=\"text-align: right;\">\n",
       "      <th></th>\n",
       "      <th>Iris-setosa</th>\n",
       "      <th>Iris-versicolor</th>\n",
       "      <th>Iris-virginica</th>\n",
       "      <th>Error</th>\n",
       "      <th>Rate</th>\n",
       "    </tr>\n",
       "  </thead>\n",
       "  <tbody>\n",
       "    <tr>\n",
       "      <th>0</th>\n",
       "      <td>40.0</td>\n",
       "      <td>0.0</td>\n",
       "      <td>0.0</td>\n",
       "      <td>0.000000</td>\n",
       "      <td>0 / 40</td>\n",
       "    </tr>\n",
       "    <tr>\n",
       "      <th>1</th>\n",
       "      <td>0.0</td>\n",
       "      <td>33.0</td>\n",
       "      <td>4.0</td>\n",
       "      <td>0.108108</td>\n",
       "      <td>4 / 37</td>\n",
       "    </tr>\n",
       "    <tr>\n",
       "      <th>2</th>\n",
       "      <td>0.0</td>\n",
       "      <td>0.0</td>\n",
       "      <td>45.0</td>\n",
       "      <td>0.000000</td>\n",
       "      <td>0 / 45</td>\n",
       "    </tr>\n",
       "    <tr>\n",
       "      <th>3</th>\n",
       "      <td>40.0</td>\n",
       "      <td>33.0</td>\n",
       "      <td>49.0</td>\n",
       "      <td>0.032787</td>\n",
       "      <td>4 / 122</td>\n",
       "    </tr>\n",
       "  </tbody>\n",
       "</table>\n",
       "</div>"
      ],
      "text/plain": [
       "   Iris-setosa  Iris-versicolor  Iris-virginica     Error     Rate\n",
       "0         40.0              0.0             0.0  0.000000   0 / 40\n",
       "1          0.0             33.0             4.0  0.108108   4 / 37\n",
       "2          0.0              0.0            45.0  0.000000   0 / 45\n",
       "3         40.0             33.0            49.0  0.032787  4 / 122"
      ]
     },
     "metadata": {},
     "output_type": "display_data"
    },
    {
     "name": "stdout",
     "output_type": "stream",
     "text": [
      "\n",
      "Top-3 Hit Ratios: \n"
     ]
    },
    {
     "data": {
      "text/html": [
       "<div>\n",
       "<style scoped>\n",
       "    .dataframe tbody tr th:only-of-type {\n",
       "        vertical-align: middle;\n",
       "    }\n",
       "\n",
       "    .dataframe tbody tr th {\n",
       "        vertical-align: top;\n",
       "    }\n",
       "\n",
       "    .dataframe thead th {\n",
       "        text-align: right;\n",
       "    }\n",
       "</style>\n",
       "<table border=\"1\" class=\"dataframe\">\n",
       "  <thead>\n",
       "    <tr style=\"text-align: right;\">\n",
       "      <th></th>\n",
       "      <th>k</th>\n",
       "      <th>hit_ratio</th>\n",
       "    </tr>\n",
       "  </thead>\n",
       "  <tbody>\n",
       "    <tr>\n",
       "      <th>0</th>\n",
       "      <td>1</td>\n",
       "      <td>0.967213</td>\n",
       "    </tr>\n",
       "    <tr>\n",
       "      <th>1</th>\n",
       "      <td>2</td>\n",
       "      <td>1.000000</td>\n",
       "    </tr>\n",
       "    <tr>\n",
       "      <th>2</th>\n",
       "      <td>3</td>\n",
       "      <td>1.000000</td>\n",
       "    </tr>\n",
       "  </tbody>\n",
       "</table>\n",
       "</div>"
      ],
      "text/plain": [
       "   k  hit_ratio\n",
       "0  1   0.967213\n",
       "1  2   1.000000\n",
       "2  3   1.000000"
      ]
     },
     "metadata": {},
     "output_type": "display_data"
    },
    {
     "name": "stdout",
     "output_type": "stream",
     "text": [
      "\n",
      "Scoring History: \n"
     ]
    },
    {
     "data": {
      "text/html": [
       "<div>\n",
       "<style scoped>\n",
       "    .dataframe tbody tr th:only-of-type {\n",
       "        vertical-align: middle;\n",
       "    }\n",
       "\n",
       "    .dataframe tbody tr th {\n",
       "        vertical-align: top;\n",
       "    }\n",
       "\n",
       "    .dataframe thead th {\n",
       "        text-align: right;\n",
       "    }\n",
       "</style>\n",
       "<table border=\"1\" class=\"dataframe\">\n",
       "  <thead>\n",
       "    <tr style=\"text-align: right;\">\n",
       "      <th></th>\n",
       "      <th></th>\n",
       "      <th>timestamp</th>\n",
       "      <th>duration</th>\n",
       "      <th>training_speed</th>\n",
       "      <th>epochs</th>\n",
       "      <th>iterations</th>\n",
       "      <th>samples</th>\n",
       "      <th>training_rmse</th>\n",
       "      <th>training_logloss</th>\n",
       "      <th>training_r2</th>\n",
       "      <th>training_classification_error</th>\n",
       "    </tr>\n",
       "  </thead>\n",
       "  <tbody>\n",
       "    <tr>\n",
       "      <th>0</th>\n",
       "      <td></td>\n",
       "      <td>2020-06-17 01:11:47</td>\n",
       "      <td>0.000 sec</td>\n",
       "      <td>None</td>\n",
       "      <td>0.0</td>\n",
       "      <td>0</td>\n",
       "      <td>0.0</td>\n",
       "      <td>NaN</td>\n",
       "      <td>NaN</td>\n",
       "      <td>NaN</td>\n",
       "      <td>NaN</td>\n",
       "    </tr>\n",
       "    <tr>\n",
       "      <th>1</th>\n",
       "      <td></td>\n",
       "      <td>2020-06-17 01:11:48</td>\n",
       "      <td>1.031 sec</td>\n",
       "      <td>170 obs/sec</td>\n",
       "      <td>1.0</td>\n",
       "      <td>1</td>\n",
       "      <td>122.0</td>\n",
       "      <td>0.592604</td>\n",
       "      <td>1.536390</td>\n",
       "      <td>0.494736</td>\n",
       "      <td>0.368852</td>\n",
       "    </tr>\n",
       "    <tr>\n",
       "      <th>2</th>\n",
       "      <td></td>\n",
       "      <td>2020-06-17 01:11:49</td>\n",
       "      <td>1.585 sec</td>\n",
       "      <td>979 obs/sec</td>\n",
       "      <td>10.0</td>\n",
       "      <td>10</td>\n",
       "      <td>1220.0</td>\n",
       "      <td>0.163701</td>\n",
       "      <td>0.084388</td>\n",
       "      <td>0.961444</td>\n",
       "      <td>0.032787</td>\n",
       "    </tr>\n",
       "  </tbody>\n",
       "</table>\n",
       "</div>"
      ],
      "text/plain": [
       "               timestamp    duration training_speed  epochs  iterations  \\\n",
       "0    2020-06-17 01:11:47   0.000 sec           None     0.0           0   \n",
       "1    2020-06-17 01:11:48   1.031 sec    170 obs/sec     1.0           1   \n",
       "2    2020-06-17 01:11:49   1.585 sec    979 obs/sec    10.0          10   \n",
       "\n",
       "   samples  training_rmse  training_logloss  training_r2  \\\n",
       "0      0.0            NaN               NaN          NaN   \n",
       "1    122.0       0.592604          1.536390     0.494736   \n",
       "2   1220.0       0.163701          0.084388     0.961444   \n",
       "\n",
       "   training_classification_error  \n",
       "0                            NaN  \n",
       "1                       0.368852  \n",
       "2                       0.032787  "
      ]
     },
     "metadata": {},
     "output_type": "display_data"
    },
    {
     "name": "stdout",
     "output_type": "stream",
     "text": [
      "\n",
      "Variable Importances: \n"
     ]
    },
    {
     "data": {
      "text/html": [
       "<div>\n",
       "<style scoped>\n",
       "    .dataframe tbody tr th:only-of-type {\n",
       "        vertical-align: middle;\n",
       "    }\n",
       "\n",
       "    .dataframe tbody tr th {\n",
       "        vertical-align: top;\n",
       "    }\n",
       "\n",
       "    .dataframe thead th {\n",
       "        text-align: right;\n",
       "    }\n",
       "</style>\n",
       "<table border=\"1\" class=\"dataframe\">\n",
       "  <thead>\n",
       "    <tr style=\"text-align: right;\">\n",
       "      <th></th>\n",
       "      <th>variable</th>\n",
       "      <th>relative_importance</th>\n",
       "      <th>scaled_importance</th>\n",
       "      <th>percentage</th>\n",
       "    </tr>\n",
       "  </thead>\n",
       "  <tbody>\n",
       "    <tr>\n",
       "      <th>0</th>\n",
       "      <td>petal_wid</td>\n",
       "      <td>1.000000</td>\n",
       "      <td>1.000000</td>\n",
       "      <td>0.270244</td>\n",
       "    </tr>\n",
       "    <tr>\n",
       "      <th>1</th>\n",
       "      <td>petal_len</td>\n",
       "      <td>0.940564</td>\n",
       "      <td>0.940564</td>\n",
       "      <td>0.254182</td>\n",
       "    </tr>\n",
       "    <tr>\n",
       "      <th>2</th>\n",
       "      <td>sepal_wid</td>\n",
       "      <td>0.915105</td>\n",
       "      <td>0.915105</td>\n",
       "      <td>0.247302</td>\n",
       "    </tr>\n",
       "    <tr>\n",
       "      <th>3</th>\n",
       "      <td>sepal_len</td>\n",
       "      <td>0.844693</td>\n",
       "      <td>0.844693</td>\n",
       "      <td>0.228273</td>\n",
       "    </tr>\n",
       "  </tbody>\n",
       "</table>\n",
       "</div>"
      ],
      "text/plain": [
       "    variable  relative_importance  scaled_importance  percentage\n",
       "0  petal_wid             1.000000           1.000000    0.270244\n",
       "1  petal_len             0.940564           0.940564    0.254182\n",
       "2  sepal_wid             0.915105           0.915105    0.247302\n",
       "3  sepal_len             0.844693           0.844693    0.228273"
      ]
     },
     "metadata": {},
     "output_type": "display_data"
    },
    {
     "data": {
      "text/plain": []
     },
     "execution_count": 16,
     "metadata": {},
     "output_type": "execute_result"
    }
   ],
   "source": [
    "mDL"
   ]
  },
  {
   "cell_type": "code",
   "execution_count": 17,
   "metadata": {},
   "outputs": [
    {
     "name": "stdout",
     "output_type": "stream",
     "text": [
      "deeplearning prediction progress: |███████████████████████████████████████| 100%\n"
     ]
    }
   ],
   "source": [
    "p = mDL.predict(test)"
   ]
  },
  {
   "cell_type": "code",
   "execution_count": 18,
   "metadata": {},
   "outputs": [
    {
     "data": {
      "text/html": [
       "<table>\n",
       "<thead>\n",
       "<tr><th>predict    </th><th style=\"text-align: right;\">  Iris-setosa</th><th style=\"text-align: right;\">  Iris-versicolor</th><th style=\"text-align: right;\">  Iris-virginica</th></tr>\n",
       "</thead>\n",
       "<tbody>\n",
       "<tr><td>Iris-setosa</td><td style=\"text-align: right;\">     0.998703</td><td style=\"text-align: right;\">      0.00129694 </td><td style=\"text-align: right;\">     1.15994e-16</td></tr>\n",
       "<tr><td>Iris-setosa</td><td style=\"text-align: right;\">     0.998349</td><td style=\"text-align: right;\">      0.00165101 </td><td style=\"text-align: right;\">     3.45619e-17</td></tr>\n",
       "<tr><td>Iris-setosa</td><td style=\"text-align: right;\">     0.999742</td><td style=\"text-align: right;\">      0.000258451</td><td style=\"text-align: right;\">     3.42698e-18</td></tr>\n",
       "<tr><td>Iris-setosa</td><td style=\"text-align: right;\">     0.999769</td><td style=\"text-align: right;\">      0.000230565</td><td style=\"text-align: right;\">     9.66635e-18</td></tr>\n",
       "<tr><td>Iris-setosa</td><td style=\"text-align: right;\">     0.998508</td><td style=\"text-align: right;\">      0.00149232 </td><td style=\"text-align: right;\">     7.97171e-17</td></tr>\n",
       "<tr><td>Iris-setosa</td><td style=\"text-align: right;\">     0.996469</td><td style=\"text-align: right;\">      0.00353053 </td><td style=\"text-align: right;\">     1.44576e-16</td></tr>\n",
       "<tr><td>Iris-setosa</td><td style=\"text-align: right;\">     0.993286</td><td style=\"text-align: right;\">      0.0067144  </td><td style=\"text-align: right;\">     9.30028e-15</td></tr>\n",
       "<tr><td>Iris-setosa</td><td style=\"text-align: right;\">     0.99818 </td><td style=\"text-align: right;\">      0.00181994 </td><td style=\"text-align: right;\">     1.48863e-16</td></tr>\n",
       "<tr><td>Iris-setosa</td><td style=\"text-align: right;\">     0.999418</td><td style=\"text-align: right;\">      0.000582089</td><td style=\"text-align: right;\">     3.13292e-17</td></tr>\n",
       "<tr><td>Iris-setosa</td><td style=\"text-align: right;\">     0.999196</td><td style=\"text-align: right;\">      0.000804027</td><td style=\"text-align: right;\">     2.14382e-17</td></tr>\n",
       "</tbody>\n",
       "</table>"
      ]
     },
     "metadata": {},
     "output_type": "display_data"
    },
    {
     "data": {
      "text/plain": []
     },
     "execution_count": 18,
     "metadata": {},
     "output_type": "execute_result"
    }
   ],
   "source": [
    "p"
   ]
  },
  {
   "cell_type": "code",
   "execution_count": 19,
   "metadata": {},
   "outputs": [
    {
     "name": "stdout",
     "output_type": "stream",
     "text": [
      "\n",
      "ModelMetricsMultinomial: deeplearning\n",
      "** Reported on test data. **\n",
      "\n",
      "MSE: 0.00030238437812021266\n",
      "RMSE: 0.017389202917908936\n",
      "LogLoss: 0.006789314436953439\n",
      "Mean Per-Class Error: 0.0\n",
      "\n",
      "Confusion Matrix: Row labels: Actual class; Column labels: Predicted class\n"
     ]
    },
    {
     "data": {
      "text/html": [
       "<div>\n",
       "<style scoped>\n",
       "    .dataframe tbody tr th:only-of-type {\n",
       "        vertical-align: middle;\n",
       "    }\n",
       "\n",
       "    .dataframe tbody tr th {\n",
       "        vertical-align: top;\n",
       "    }\n",
       "\n",
       "    .dataframe thead th {\n",
       "        text-align: right;\n",
       "    }\n",
       "</style>\n",
       "<table border=\"1\" class=\"dataframe\">\n",
       "  <thead>\n",
       "    <tr style=\"text-align: right;\">\n",
       "      <th></th>\n",
       "      <th>Iris-setosa</th>\n",
       "      <th>Iris-versicolor</th>\n",
       "      <th>Iris-virginica</th>\n",
       "      <th>Error</th>\n",
       "      <th>Rate</th>\n",
       "    </tr>\n",
       "  </thead>\n",
       "  <tbody>\n",
       "    <tr>\n",
       "      <th>0</th>\n",
       "      <td>10.0</td>\n",
       "      <td>0.0</td>\n",
       "      <td>0.0</td>\n",
       "      <td>0.0</td>\n",
       "      <td>0 / 10</td>\n",
       "    </tr>\n",
       "    <tr>\n",
       "      <th>1</th>\n",
       "      <td>0.0</td>\n",
       "      <td>13.0</td>\n",
       "      <td>0.0</td>\n",
       "      <td>0.0</td>\n",
       "      <td>0 / 13</td>\n",
       "    </tr>\n",
       "    <tr>\n",
       "      <th>2</th>\n",
       "      <td>0.0</td>\n",
       "      <td>0.0</td>\n",
       "      <td>5.0</td>\n",
       "      <td>0.0</td>\n",
       "      <td>0 / 5</td>\n",
       "    </tr>\n",
       "    <tr>\n",
       "      <th>3</th>\n",
       "      <td>10.0</td>\n",
       "      <td>13.0</td>\n",
       "      <td>5.0</td>\n",
       "      <td>0.0</td>\n",
       "      <td>0 / 28</td>\n",
       "    </tr>\n",
       "  </tbody>\n",
       "</table>\n",
       "</div>"
      ],
      "text/plain": [
       "   Iris-setosa  Iris-versicolor  Iris-virginica  Error    Rate\n",
       "0         10.0              0.0             0.0    0.0  0 / 10\n",
       "1          0.0             13.0             0.0    0.0  0 / 13\n",
       "2          0.0              0.0             5.0    0.0   0 / 5\n",
       "3         10.0             13.0             5.0    0.0  0 / 28"
      ]
     },
     "metadata": {},
     "output_type": "display_data"
    },
    {
     "name": "stdout",
     "output_type": "stream",
     "text": [
      "\n",
      "Top-3 Hit Ratios: \n"
     ]
    },
    {
     "data": {
      "text/html": [
       "<div>\n",
       "<style scoped>\n",
       "    .dataframe tbody tr th:only-of-type {\n",
       "        vertical-align: middle;\n",
       "    }\n",
       "\n",
       "    .dataframe tbody tr th {\n",
       "        vertical-align: top;\n",
       "    }\n",
       "\n",
       "    .dataframe thead th {\n",
       "        text-align: right;\n",
       "    }\n",
       "</style>\n",
       "<table border=\"1\" class=\"dataframe\">\n",
       "  <thead>\n",
       "    <tr style=\"text-align: right;\">\n",
       "      <th></th>\n",
       "      <th>k</th>\n",
       "      <th>hit_ratio</th>\n",
       "    </tr>\n",
       "  </thead>\n",
       "  <tbody>\n",
       "    <tr>\n",
       "      <th>0</th>\n",
       "      <td>1</td>\n",
       "      <td>1.0</td>\n",
       "    </tr>\n",
       "    <tr>\n",
       "      <th>1</th>\n",
       "      <td>2</td>\n",
       "      <td>1.0</td>\n",
       "    </tr>\n",
       "    <tr>\n",
       "      <th>2</th>\n",
       "      <td>3</td>\n",
       "      <td>1.0</td>\n",
       "    </tr>\n",
       "  </tbody>\n",
       "</table>\n",
       "</div>"
      ],
      "text/plain": [
       "   k  hit_ratio\n",
       "0  1        1.0\n",
       "1  2        1.0\n",
       "2  3        1.0"
      ]
     },
     "metadata": {},
     "output_type": "display_data"
    },
    {
     "data": {
      "text/plain": []
     },
     "execution_count": 19,
     "metadata": {},
     "output_type": "execute_result"
    }
   ],
   "source": [
    "mDL.model_performance(test)"
   ]
  },
  {
   "cell_type": "code",
   "execution_count": null,
   "metadata": {},
   "outputs": [],
   "source": []
  }
 ],
 "metadata": {
  "kernelspec": {
   "display_name": "Python 3",
   "language": "python",
   "name": "python3"
  },
  "language_info": {
   "codemirror_mode": {
    "name": "ipython",
    "version": 3
   },
   "file_extension": ".py",
   "mimetype": "text/x-python",
   "name": "python",
   "nbconvert_exporter": "python",
   "pygments_lexer": "ipython3",
   "version": "3.7.6"
  }
 },
 "nbformat": 4,
 "nbformat_minor": 4
}
