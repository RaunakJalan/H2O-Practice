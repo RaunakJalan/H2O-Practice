{
 "cells": [
  {
   "cell_type": "code",
   "execution_count": 3,
   "metadata": {},
   "outputs": [
    {
     "name": "stdout",
     "output_type": "stream",
     "text": [
      "Checking whether there is an H2O instance running at http://localhost:54321. connected.\n"
     ]
    },
    {
     "data": {
      "text/html": [
       "<div style=\"overflow:auto\"><table style=\"width:50%\"><tr><td>H2O cluster uptime:</td>\n",
       "<td>1 hour 31 mins</td></tr>\n",
       "<tr><td>H2O cluster timezone:</td>\n",
       "<td>Asia/Kolkata</td></tr>\n",
       "<tr><td>H2O data parsing timezone:</td>\n",
       "<td>UTC</td></tr>\n",
       "<tr><td>H2O cluster version:</td>\n",
       "<td>3.20.0.2</td></tr>\n",
       "<tr><td>H2O cluster version age:</td>\n",
       "<td>4 days </td></tr>\n",
       "<tr><td>H2O cluster name:</td>\n",
       "<td>H2O_started_from_R_raj_rnt508</td></tr>\n",
       "<tr><td>H2O cluster total nodes:</td>\n",
       "<td>1</td></tr>\n",
       "<tr><td>H2O cluster free memory:</td>\n",
       "<td>3.540 Gb</td></tr>\n",
       "<tr><td>H2O cluster total cores:</td>\n",
       "<td>8</td></tr>\n",
       "<tr><td>H2O cluster allowed cores:</td>\n",
       "<td>8</td></tr>\n",
       "<tr><td>H2O cluster status:</td>\n",
       "<td>locked, healthy</td></tr>\n",
       "<tr><td>H2O connection url:</td>\n",
       "<td>http://localhost:54321</td></tr>\n",
       "<tr><td>H2O connection proxy:</td>\n",
       "<td>None</td></tr>\n",
       "<tr><td>H2O internal security:</td>\n",
       "<td>False</td></tr>\n",
       "<tr><td>H2O API Extensions:</td>\n",
       "<td>XGBoost, Algos, AutoML, Core V3, Core V4</td></tr>\n",
       "<tr><td>Python version:</td>\n",
       "<td>3.6.5 final</td></tr></table></div>"
      ],
      "text/plain": [
       "--------------------------  ----------------------------------------\n",
       "H2O cluster uptime:         1 hour 31 mins\n",
       "H2O cluster timezone:       Asia/Kolkata\n",
       "H2O data parsing timezone:  UTC\n",
       "H2O cluster version:        3.20.0.2\n",
       "H2O cluster version age:    4 days\n",
       "H2O cluster name:           H2O_started_from_R_raj_rnt508\n",
       "H2O cluster total nodes:    1\n",
       "H2O cluster free memory:    3.540 Gb\n",
       "H2O cluster total cores:    8\n",
       "H2O cluster allowed cores:  8\n",
       "H2O cluster status:         locked, healthy\n",
       "H2O connection url:         http://localhost:54321\n",
       "H2O connection proxy:\n",
       "H2O internal security:      False\n",
       "H2O API Extensions:         XGBoost, Algos, AutoML, Core V3, Core V4\n",
       "Python version:             3.6.5 final\n",
       "--------------------------  ----------------------------------------"
      ]
     },
     "metadata": {},
     "output_type": "display_data"
    }
   ],
   "source": [
    "import h2o\n",
    "h2o.init()"
   ]
  },
  {
   "cell_type": "code",
   "execution_count": 4,
   "metadata": {},
   "outputs": [],
   "source": [
    "people=h2o.get_frame('people')"
   ]
  },
  {
   "cell_type": "code",
   "execution_count": 5,
   "metadata": {},
   "outputs": [
    {
     "data": {
      "text/html": [
       "<table>\n",
       "<thead>\n",
       "<tr><th style=\"text-align: right;\">  id</th><th>bloodType  </th><th style=\"text-align: right;\">    age</th><th style=\"text-align: right;\">  healthyEating</th><th style=\"text-align: right;\">  activeLifeStyle</th><th style=\"text-align: right;\">  income</th></tr>\n",
       "</thead>\n",
       "<tbody>\n",
       "<tr><td style=\"text-align: right;\">   1</td><td>A          </td><td style=\"text-align: right;\">31.5161</td><td style=\"text-align: right;\">              4</td><td style=\"text-align: right;\">                3</td><td style=\"text-align: right;\">   34700</td></tr>\n",
       "<tr><td style=\"text-align: right;\">   2</td><td>A          </td><td style=\"text-align: right;\">55.0503</td><td style=\"text-align: right;\">              3</td><td style=\"text-align: right;\">                4</td><td style=\"text-align: right;\">   50500</td></tr>\n",
       "<tr><td style=\"text-align: right;\">   3</td><td>O          </td><td style=\"text-align: right;\">37.2219</td><td style=\"text-align: right;\">              7</td><td style=\"text-align: right;\">                3</td><td style=\"text-align: right;\">   35500</td></tr>\n",
       "<tr><td style=\"text-align: right;\">   4</td><td>O          </td><td style=\"text-align: right;\">59.5018</td><td style=\"text-align: right;\">              7</td><td style=\"text-align: right;\">                6</td><td style=\"text-align: right;\">   57800</td></tr>\n",
       "<tr><td style=\"text-align: right;\">   5</td><td>O          </td><td style=\"text-align: right;\">62.202 </td><td style=\"text-align: right;\">              2</td><td style=\"text-align: right;\">                7</td><td style=\"text-align: right;\">   53900</td></tr>\n",
       "<tr><td style=\"text-align: right;\">   6</td><td>AB         </td><td style=\"text-align: right;\">20.1412</td><td style=\"text-align: right;\">              5</td><td style=\"text-align: right;\">                9</td><td style=\"text-align: right;\">   27500</td></tr>\n",
       "<tr><td style=\"text-align: right;\">   7</td><td>B          </td><td style=\"text-align: right;\">42.821 </td><td style=\"text-align: right;\">              3</td><td style=\"text-align: right;\">                6</td><td style=\"text-align: right;\">   38200</td></tr>\n",
       "<tr><td style=\"text-align: right;\">   8</td><td>A          </td><td style=\"text-align: right;\">59.9437</td><td style=\"text-align: right;\">              1</td><td style=\"text-align: right;\">                3</td><td style=\"text-align: right;\">   52700</td></tr>\n",
       "<tr><td style=\"text-align: right;\">   9</td><td>A          </td><td style=\"text-align: right;\">43.9174</td><td style=\"text-align: right;\">              5</td><td style=\"text-align: right;\">                7</td><td style=\"text-align: right;\">   41100</td></tr>\n",
       "<tr><td style=\"text-align: right;\">  10</td><td>A          </td><td style=\"text-align: right;\">39.4609</td><td style=\"text-align: right;\">              5</td><td style=\"text-align: right;\">                7</td><td style=\"text-align: right;\">   37500</td></tr>\n",
       "</tbody>\n",
       "</table>"
      ]
     },
     "metadata": {},
     "output_type": "display_data"
    },
    {
     "data": {
      "text/plain": []
     },
     "execution_count": 5,
     "metadata": {},
     "output_type": "execute_result"
    }
   ],
   "source": [
    "people"
   ]
  },
  {
   "cell_type": "code",
   "execution_count": 17,
   "metadata": {},
   "outputs": [],
   "source": [
    "train,valid,test= people.split_frame(ratios=[0.81,0.09],\n",
    "                                     destination_frames=['people_train','people_valid','people_test'],seed=123)"
   ]
  },
  {
   "cell_type": "code",
   "execution_count": 18,
   "metadata": {},
   "outputs": [
    {
     "name": "stdout",
     "output_type": "stream",
     "text": [
      "803/103/94\n"
     ]
    }
   ],
   "source": [
    "print(\"%d/%d/%d\" % (train.nrows,valid.nrows,test.nrows))"
   ]
  },
  {
   "cell_type": "code",
   "execution_count": 19,
   "metadata": {},
   "outputs": [],
   "source": [
    "from h2o.estimators.gbm import H2OGradientBoostingEstimator\n"
   ]
  },
  {
   "cell_type": "code",
   "execution_count": 24,
   "metadata": {},
   "outputs": [
    {
     "data": {
      "text/plain": [
       "['bloodType', 'age', 'healthyEating', 'activeLifeStyle']"
      ]
     },
     "execution_count": 24,
     "metadata": {},
     "output_type": "execute_result"
    }
   ],
   "source": [
    "y=\"income\"\n",
    "ignoreFields=[y,\"id\"]\n",
    "x= [i for i in train.names if i not in ignoreFields]\n",
    "x"
   ]
  },
  {
   "cell_type": "code",
   "execution_count": 25,
   "metadata": {},
   "outputs": [],
   "source": [
    "ml=H2OGradientBoostingEstimator(model_id='defaults')"
   ]
  },
  {
   "cell_type": "code",
   "execution_count": 26,
   "metadata": {},
   "outputs": [
    {
     "name": "stdout",
     "output_type": "stream",
     "text": [
      "gbm Model Build progress: |███████████████████████████████████████████████| 100%\n"
     ]
    }
   ],
   "source": [
    "ml.train(x,y,train,validation_frame=valid)"
   ]
  },
  {
   "cell_type": "code",
   "execution_count": 27,
   "metadata": {},
   "outputs": [
    {
     "data": {
      "text/plain": [
       "913.9117299385118"
      ]
     },
     "execution_count": 27,
     "metadata": {},
     "output_type": "execute_result"
    }
   ],
   "source": [
    "ml.mae(train=True)"
   ]
  },
  {
   "cell_type": "code",
   "execution_count": 28,
   "metadata": {},
   "outputs": [
    {
     "data": {
      "text/plain": [
       "1377.5897213652227"
      ]
     },
     "execution_count": 28,
     "metadata": {},
     "output_type": "execute_result"
    }
   ],
   "source": [
    "ml.mae(valid=True)"
   ]
  },
  {
   "cell_type": "code",
   "execution_count": 29,
   "metadata": {},
   "outputs": [
    {
     "data": {
      "text/plain": [
       "1358.710454301806"
      ]
     },
     "execution_count": 29,
     "metadata": {},
     "output_type": "execute_result"
    }
   ],
   "source": [
    "perf=ml.model_performance(test)\n",
    "perf.mae()"
   ]
  },
  {
   "cell_type": "code",
   "execution_count": 32,
   "metadata": {},
   "outputs": [],
   "source": [
    "#Overfit gbm\n",
    "ml2=H2OGradientBoostingEstimator(model_id=\"overfit\",ntrees=1000,max_depth=10)"
   ]
  },
  {
   "cell_type": "code",
   "execution_count": 33,
   "metadata": {},
   "outputs": [
    {
     "name": "stdout",
     "output_type": "stream",
     "text": [
      "gbm Model Build progress: |███████████████████████████████████████████████| 100%\n"
     ]
    }
   ],
   "source": [
    "ml2.train(x,y,train,validation_frame=valid)"
   ]
  },
  {
   "cell_type": "code",
   "execution_count": 35,
   "metadata": {},
   "outputs": [
    {
     "data": {
      "text/plain": [
       "182.20030111690537"
      ]
     },
     "execution_count": 35,
     "metadata": {},
     "output_type": "execute_result"
    }
   ],
   "source": [
    "ml2.mae(train=True)"
   ]
  },
  {
   "cell_type": "code",
   "execution_count": 36,
   "metadata": {},
   "outputs": [
    {
     "data": {
      "text/plain": [
       "1544.0480466741922"
      ]
     },
     "execution_count": 36,
     "metadata": {},
     "output_type": "execute_result"
    }
   ],
   "source": [
    "ml2.mae(valid=True)"
   ]
  },
  {
   "cell_type": "code",
   "execution_count": 37,
   "metadata": {},
   "outputs": [
    {
     "data": {
      "text/plain": [
       "1426.0987808298"
      ]
     },
     "execution_count": 37,
     "metadata": {},
     "output_type": "execute_result"
    }
   ],
   "source": [
    "perf=ml2.model_performance(test)\n",
    "perf.mae()"
   ]
  },
  {
   "cell_type": "markdown",
   "metadata": {},
   "source": [
    "    seriously overfitting\n",
    "    Training error have really come down but validation error and test error goes up"
   ]
  }
 ],
 "metadata": {
  "kernelspec": {
   "display_name": "Python 3",
   "language": "python",
   "name": "python3"
  },
  "language_info": {
   "codemirror_mode": {
    "name": "ipython",
    "version": 3
   },
   "file_extension": ".py",
   "mimetype": "text/x-python",
   "name": "python",
   "nbconvert_exporter": "python",
   "pygments_lexer": "ipython3",
   "version": "3.7.6"
  }
 },
 "nbformat": 4,
 "nbformat_minor": 2
}
