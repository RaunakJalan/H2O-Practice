{
 "cells": [
  {
   "cell_type": "code",
   "execution_count": 4,
   "metadata": {},
   "outputs": [],
   "source": [
    "library(h2o)\n",
    "options(warnings=-1)"
   ]
  },
  {
   "cell_type": "code",
   "execution_count": 5,
   "metadata": {},
   "outputs": [
    {
     "name": "stdout",
     "output_type": "stream",
     "text": [
      " Connection successful!\n",
      "\n",
      "R is connected to the H2O cluster: \n",
      "    H2O cluster uptime:         4 seconds 356 milliseconds \n",
      "    H2O cluster timezone:       Asia/Kolkata \n",
      "    H2O data parsing timezone:  UTC \n",
      "    H2O cluster version:        3.20.0.2 \n",
      "    H2O cluster version age:    12 days  \n",
      "    H2O cluster name:           H2O_started_from_R_raj_cjn618 \n",
      "    H2O cluster total nodes:    1 \n",
      "    H2O cluster total memory:   3.56 GB \n",
      "    H2O cluster total cores:    8 \n",
      "    H2O cluster allowed cores:  8 \n",
      "    H2O cluster healthy:        TRUE \n",
      "    H2O Connection ip:          localhost \n",
      "    H2O Connection port:        54321 \n",
      "    H2O Connection proxy:       NA \n",
      "    H2O Internal Security:      FALSE \n",
      "    H2O API Extensions:         XGBoost, Algos, AutoML, Core V3, Core V4 \n",
      "    R Version:                  R version 3.4.3 (2017-11-30) \n",
      "\n"
     ]
    }
   ],
   "source": [
    "h2o.init(nthreads = -1)"
   ]
  },
  {
   "cell_type": "code",
   "execution_count": 6,
   "metadata": {},
   "outputs": [
    {
     "name": "stdout",
     "output_type": "stream",
     "text": [
      "  |======================================================================| 100%\n"
     ]
    }
   ],
   "source": [
    "url <-\"http://h2o-public-test-data.s3.amazonaws.com/smalldata/airlines/allyears2k_headers.zip\"\n",
    "data=h2o.importFile(url)"
   ]
  },
  {
   "cell_type": "code",
   "execution_count": 7,
   "metadata": {},
   "outputs": [],
   "source": [
    "parts=h2o.splitFrame(data,c(0.8,0.1),seed=69)\n",
    "train<-parts[[1]]\n",
    "valid<-parts[[2]]\n",
    "test<-parts[[3]]"
   ]
  },
  {
   "cell_type": "code",
   "execution_count": 8,
   "metadata": {},
   "outputs": [],
   "source": [
    "y <-'IsArrDelayed' # binomial Classification\n",
    "ignoreFields=c('ArrDelay',\n",
    " 'DepDelay','CarrierDelay',\n",
    " 'WeatherDelay',\n",
    " 'NASDelay',\n",
    " 'SecurityDelay',\n",
    " 'LateAircraftDelay','IsArrDelayed',\n",
    " 'IsDepDelayed','ActualElapsedTime','ArrTime')\n",
    "x2<-setdiff(colnames(data),ignoreFields)"
   ]
  },
  {
   "cell_type": "code",
   "execution_count": 9,
   "metadata": {},
   "outputs": [
    {
     "name": "stdout",
     "output_type": "stream",
     "text": [
      "  |======================================================================| 100%\n"
     ]
    },
    {
     "data": {
      "text/plain": [
       "   user  system elapsed \n",
       "  1.078   0.078 123.744 "
      ]
     },
     "metadata": {},
     "output_type": "display_data"
    }
   ],
   "source": [
    "system.time(g<- h2o.grid(\"deeplearning\",search_criteria = list(strategy=\"RandomDiscrete\",max_models=4 ),# When testing with epochs 0.01\n",
    "                                                  #max_models=12\n",
    "             hyper_params=list(seed=c(77),#Placeholder\n",
    "                               l1=c(0,1e-6,3e-6,1e-5),l2=c(0,1e-6,3e-6,1e-5),input_dropout_ratio=c(0,0.1,0.2,0.3),\n",
    "                              hidden_dropout_ratios=list(\n",
    "                                  c(0,0),c(0.2,0.2),c(0.4,0.4),c(0.6,0.6)\n",
    "                              )\n",
    "                            ),\n",
    "                               grid_id=\"dl_test\",\n",
    "                               x=x2,\n",
    "                               y=y,\n",
    "                               hidden=c(400,400),\n",
    "                               epochs=0.01,#to test it quickly\n",
    "                               training_frame=train,\n",
    "                               validation_frame=valid,\n",
    "                               activation=\"RectifierWithDropout\"))\n",
    "\n",
    "             \n",
    "                               "
   ]
  },
  {
   "cell_type": "code",
   "execution_count": 10,
   "metadata": {},
   "outputs": [
    {
     "data": {
      "text/plain": [
       "H2O Grid Details\n",
       "================\n",
       "\n",
       "Grid ID: dl_test \n",
       "Used hyper parameters: \n",
       "  -  hidden_dropout_ratios \n",
       "  -  input_dropout_ratio \n",
       "  -  l1 \n",
       "  -  l2 \n",
       "  -  seed \n",
       "Number of models: 4 \n",
       "Number of failed models: 0 \n",
       "\n",
       "Hyper-Parameter Search Summary: ordered by increasing logloss\n",
       "  hidden_dropout_ratios input_dropout_ratio     l1     l2 seed       model_ids\n",
       "1            [0.6, 0.6]                 0.0 1.0E-6    0.0   77 dl_test_model_2\n",
       "2            [0.6, 0.6]                 0.3 1.0E-5 1.0E-6   77 dl_test_model_0\n",
       "3            [0.0, 0.0]                 0.3 3.0E-6 1.0E-5   77 dl_test_model_3\n",
       "4            [0.6, 0.6]                 0.1 1.0E-5 3.0E-6   77 dl_test_model_1\n",
       "             logloss\n",
       "1 0.7471338356765426\n",
       "2 1.0276765483506496\n",
       "3 1.2854761101888248\n",
       "4 1.5711927225839926"
      ]
     },
     "metadata": {},
     "output_type": "display_data"
    }
   ],
   "source": [
    "g"
   ]
  },
  {
   "cell_type": "code",
   "execution_count": 11,
   "metadata": {},
   "outputs": [
    {
     "name": "stdout",
     "output_type": "stream",
     "text": [
      "  |======================================================================| 100%\n"
     ]
    },
    {
     "data": {
      "text/plain": [
       "    user   system  elapsed \n",
       "  53.946    3.612 7136.607 "
      ]
     },
     "metadata": {},
     "output_type": "display_data"
    }
   ],
   "source": [
    "system.time(g2<- h2o.grid(\"deeplearning\",search_criteria = list(strategy=\"RandomDiscrete\",max_models=12),# When testing with epochs 0.01\n",
    "                                                  #max_models=4\n",
    "             hyper_params=list(seed=c(77),#Placeholder\n",
    "                               l1=c(0,1e-6,3e-6,1e-5),l2=c(0,1e-6,3e-6,1e-5),input_dropout_ratio=c(0,0.1,0.2,0.3),\n",
    "                              hidden_dropout_ratios=list(\n",
    "                                  c(0,0),c(0.2,0.2),c(0.4,0.4),c(0.6,0.6)\n",
    "                              )\n",
    "                            ),\n",
    "                               grid_id=\"dlB\",\n",
    "                               x=x2,\n",
    "                               y=y,\n",
    "                               hidden=c(400,400),\n",
    "                               epochs=40,#Starting to overfit\n",
    "                               training_frame=train,\n",
    "                               validation_frame=valid,\n",
    "                               activation=\"RectifierWithDropout\"))"
   ]
  },
  {
   "cell_type": "code",
   "execution_count": 12,
   "metadata": {},
   "outputs": [
    {
     "data": {
      "text/plain": [
       "H2O Grid Details\n",
       "================\n",
       "\n",
       "Grid ID: dlB \n",
       "Used hyper parameters: \n",
       "  -  hidden_dropout_ratios \n",
       "  -  input_dropout_ratio \n",
       "  -  l1 \n",
       "  -  l2 \n",
       "  -  seed \n",
       "Number of models: 12 \n",
       "Number of failed models: 0 \n",
       "\n",
       "Hyper-Parameter Search Summary: ordered by increasing logloss\n",
       "   hidden_dropout_ratios input_dropout_ratio     l1     l2 seed    model_ids\n",
       "1             [0.6, 0.6]                 0.0 1.0E-6 1.0E-6   77  dlB_model_2\n",
       "2             [0.0, 0.0]                 0.0 1.0E-5 1.0E-5   77  dlB_model_5\n",
       "3             [0.2, 0.2]                 0.0 3.0E-6 1.0E-5   77  dlB_model_3\n",
       "4             [0.4, 0.4]                 0.0 3.0E-6 3.0E-6   77 dlB_model_10\n",
       "5             [0.4, 0.4]                 0.1 1.0E-6 1.0E-6   77  dlB_model_4\n",
       "6             [0.2, 0.2]                 0.1 1.0E-6    0.0   77  dlB_model_8\n",
       "7             [0.4, 0.4]                 0.1 1.0E-6 1.0E-5   77 dlB_model_11\n",
       "8             [0.0, 0.0]                 0.2 1.0E-6 1.0E-5   77  dlB_model_7\n",
       "9             [0.4, 0.4]                 0.2 1.0E-6 1.0E-6   77  dlB_model_6\n",
       "10            [0.4, 0.4]                 0.2    0.0    0.0   77  dlB_model_0\n",
       "11            [0.6, 0.6]                 0.2 1.0E-5 1.0E-6   77  dlB_model_9\n",
       "12            [0.6, 0.6]                 0.3 3.0E-6 3.0E-6   77  dlB_model_1\n",
       "               logloss\n",
       "1    0.409732283128766\n",
       "2  0.42381552942615797\n",
       "3  0.42845708216753065\n",
       "4   0.4516354121898314\n",
       "5   0.5355515193276126\n",
       "6   0.5372868916707477\n",
       "7   0.5462824009055228\n",
       "8   0.5551704421880426\n",
       "9   0.5691335467497795\n",
       "10  0.5790562694657956\n",
       "11  0.5827332851590389\n",
       "12  0.5974634033678337"
      ]
     },
     "metadata": {},
     "output_type": "display_data"
    }
   ],
   "source": [
    "g2"
   ]
  },
  {
   "cell_type": "markdown",
   "metadata": {},
   "source": [
    "Quite a bit of noise in above logloss, Drop 0.6 from hidden dropout ratio and 0.2 and 0.3 for input dropout ratio and make eight more models"
   ]
  },
  {
   "cell_type": "markdown",
   "metadata": {},
   "source": [
    "Remember : Keep the same grid_id, new and old get merged"
   ]
  },
  {
   "cell_type": "code",
   "execution_count": 14,
   "metadata": {},
   "outputs": [
    {
     "name": "stdout",
     "output_type": "stream",
     "text": [
      "  |======================================================================| 100%\n"
     ]
    },
    {
     "data": {
      "text/plain": [
       "    user   system  elapsed \n",
       "  37.341    2.553 4999.230 "
      ]
     },
     "metadata": {},
     "output_type": "display_data"
    }
   ],
   "source": [
    "system.time(g2<- h2o.grid(\"deeplearning\",search_criteria = list(strategy=\"RandomDiscrete\",max_models=8 ),# When testing with epochs 0.01\n",
    "                                                  #max_models=12\n",
    "             hyper_params=list(seed=c(88),#Different value just so we can see new one\n",
    "                               l1=c(0,1e-6,3e-6,1e-5),l2=c(0,1e-6,3e-6,1e-5),input_dropout_ratio=c(0,0.1),\n",
    "                              hidden_dropout_ratios=list(\n",
    "                                  c(0,0),c(0.2,0.2),c(0.4,0.4)\n",
    "                              )\n",
    "                            ),\n",
    "                               grid_id=\"dlB\",\n",
    "                               x=x2,\n",
    "                               y=y,\n",
    "                               hidden=c(400,400),\n",
    "                               epochs=40,#Starting to overfit\n",
    "                               training_frame=train,\n",
    "                               validation_frame=valid,\n",
    "                               activation=\"RectifierWithDropout\"))"
   ]
  },
  {
   "cell_type": "code",
   "execution_count": 15,
   "metadata": {},
   "outputs": [
    {
     "data": {
      "text/plain": [
       "H2O Grid Details\n",
       "================\n",
       "\n",
       "Grid ID: dlB \n",
       "Used hyper parameters: \n",
       "  -  hidden_dropout_ratios \n",
       "  -  input_dropout_ratio \n",
       "  -  l1 \n",
       "  -  l2 \n",
       "  -  seed \n",
       "Number of models: 20 \n",
       "Number of failed models: 0 \n",
       "\n",
       "Hyper-Parameter Search Summary: ordered by increasing logloss\n",
       "   hidden_dropout_ratios input_dropout_ratio     l1     l2 seed    model_ids\n",
       "1             [0.6, 0.6]                 0.0 1.0E-6 1.0E-6   77  dlB_model_2\n",
       "2             [0.0, 0.0]                 0.0 1.0E-5    0.0   88 dlB_model_13\n",
       "3             [0.0, 0.0]                 0.0 1.0E-5 1.0E-5   77  dlB_model_5\n",
       "4             [0.2, 0.2]                 0.0 3.0E-6 1.0E-5   77  dlB_model_3\n",
       "5             [0.2, 0.2]                 0.0    0.0 1.0E-6   88 dlB_model_18\n",
       "6             [0.4, 0.4]                 0.0 1.0E-6 1.0E-6   88 dlB_model_16\n",
       "7             [0.4, 0.4]                 0.0 3.0E-6 3.0E-6   88 dlB_model_17\n",
       "8             [0.4, 0.4]                 0.0 3.0E-6 3.0E-6   77 dlB_model_10\n",
       "9             [0.0, 0.0]                 0.0    0.0 1.0E-6   88 dlB_model_12\n",
       "10            [0.4, 0.4]                 0.1 1.0E-6 1.0E-6   77  dlB_model_4\n",
       "11            [0.4, 0.4]                 0.1    0.0 1.0E-5   88 dlB_model_19\n",
       "12            [0.4, 0.4]                 0.1 1.0E-6    0.0   88 dlB_model_14\n",
       "13            [0.2, 0.2]                 0.1 1.0E-6    0.0   77  dlB_model_8\n",
       "14            [0.2, 0.2]                 0.1    0.0    0.0   88 dlB_model_15\n",
       "15            [0.4, 0.4]                 0.1 1.0E-6 1.0E-5   77 dlB_model_11\n",
       "16            [0.0, 0.0]                 0.2 1.0E-6 1.0E-5   77  dlB_model_7\n",
       "17            [0.4, 0.4]                 0.2 1.0E-6 1.0E-6   77  dlB_model_6\n",
       "18            [0.4, 0.4]                 0.2    0.0    0.0   77  dlB_model_0\n",
       "19            [0.6, 0.6]                 0.2 1.0E-5 1.0E-6   77  dlB_model_9\n",
       "20            [0.6, 0.6]                 0.3 3.0E-6 3.0E-6   77  dlB_model_1\n",
       "               logloss\n",
       "1    0.409732283128766\n",
       "2  0.41993666636104715\n",
       "3  0.42381552942615797\n",
       "4  0.42845708216753065\n",
       "5   0.4344178168572226\n",
       "6  0.44414122053583033\n",
       "7   0.4465256057651126\n",
       "8   0.4516354121898314\n",
       "9   0.4943836809148747\n",
       "10  0.5355515193276126\n",
       "11  0.5364181512372064\n",
       "12  0.5371754537861413\n",
       "13  0.5372868916707477\n",
       "14  0.5399985970553234\n",
       "15  0.5462824009055228\n",
       "16  0.5551704421880426\n",
       "17  0.5691335467497795\n",
       "18  0.5790562694657956\n",
       "19  0.5827332851590389\n",
       "20  0.5974634033678337"
      ]
     },
     "metadata": {},
     "output_type": "display_data"
    }
   ],
   "source": [
    "g2"
   ]
  },
  {
   "cell_type": "code",
   "execution_count": null,
   "metadata": {},
   "outputs": [
    {
     "data": {
      "text/html": [
       "'/private/tmp/dl_test_model_2'"
      ],
      "text/latex": [
       "'/private/tmp/dl\\_test\\_model\\_2'"
      ],
      "text/markdown": [
       "'/private/tmp/dl_test_model_2'"
      ],
      "text/plain": [
       "[1] \"/private/tmp/dl_test_model_2\""
      ]
     },
     "metadata": {},
     "output_type": "display_data"
    },
    {
     "data": {
      "text/plain": [
       "H2OBinomialMetrics: deeplearning\n",
       "** Reported on validation data. **\n",
       "** Metrics reported on full validation frame **\n",
       "\n",
       "MSE:  0.2737503\n",
       "RMSE:  0.5232115\n",
       "LogLoss:  0.7471338\n",
       "Mean Per-Class Error:  0.5\n",
       "AUC:  0.4758771\n",
       "Gini:  -0.04824578\n",
       "\n",
       "Confusion Matrix (vertical: actual; across: predicted) for F1-optimal threshold:\n",
       "       NO  YES    Error        Rate\n",
       "NO      0 1933 1.000000  =1933/1933\n",
       "YES     0 2339 0.000000     =0/2339\n",
       "Totals  0 4272 0.452481  =1933/4272\n",
       "\n",
       "Maximum Metrics: Maximum metrics at their respective thresholds\n",
       "                        metric threshold    value idx\n",
       "1                       max f1  0.455355 0.707609 399\n",
       "2                       max f2  0.455355 0.858160 399\n",
       "3                 max f0point5  0.455355 0.601997 399\n",
       "4                 max accuracy  0.455355 0.547519 399\n",
       "5                max precision  0.821339 1.000000   0\n",
       "6                   max recall  0.455355 1.000000 399\n",
       "7              max specificity  0.821339 1.000000   0\n",
       "8             max absolute_mcc  0.576630 0.139851 340\n",
       "9   max min_per_class_accuracy  0.688192 0.492499 176\n",
       "10 max mean_per_class_accuracy  0.742252 0.505128  79\n",
       "\n",
       "Gains/Lift Table: Extract with `h2o.gainsLift(<model>, <data>)` or `h2o.gainsLift(<model>, valid=<T/F>, xval=<T/F>)`"
      ]
     },
     "metadata": {},
     "output_type": "display_data"
    }
   ],
   "source": [
    "best_model <- h2o.getModel(g@model_ids[[1]]) #ist models is th best one with least log loss\n",
    "h2o.saveModel(best_model,\"/tmp/\")\n",
    "#validation and test errors are roughly the same which is a good sign\n",
    "h2o.performance(best_model,valid= TRUE)\n",
    "h2o.performance(best_model,test)\n",
    "\n"
   ]
  },
  {
   "cell_type": "code",
   "execution_count": null,
   "metadata": {},
   "outputs": [],
   "source": []
  }
 ],
 "metadata": {
  "kernelspec": {
   "display_name": "R",
   "language": "R",
   "name": "ir"
  },
  "language_info": {
   "codemirror_mode": "r",
   "file_extension": ".r",
   "mimetype": "text/x-r-source",
   "name": "R",
   "pygments_lexer": "r",
   "version": "3.4.3"
  }
 },
 "nbformat": 4,
 "nbformat_minor": 2
}
